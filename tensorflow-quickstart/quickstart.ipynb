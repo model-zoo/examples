{
  "cells": [
    {
      "cell_type": "markdown",
      "metadata": {
        "cell_marker": "\"\"\""
      },
      "source": [
        "TensorFlow: Quick Start\n",
        "=======================\n",
        "\n",
        "In this tutorial, we are going to deploy an image classifier to Model Zoo with\n",
        "TensorFlow and use it to make sample predictions.\n",
        "\n",
        "You can follow along this tutorial in any Python environment you're comfortable\n",
        "with, such as a Python IDE, Jupyter notebook, or a Python terminal. The easiest\n",
        "option is to open this tutorial directly in colab:\n",
        "\n",
        "[![Open In Colab](https://colab.research.google.com/assets/colab-badge.svg)](https://colab.research.google.com/github/model-zoo/examples/blob/master/tensorflow-quickstart/quickstart.ipynb)\n",
        "\n",
        "Installation\n",
        "------------\n",
        "\n",
        "Install the Model Zoo client library via pip:"
      ]
    },
    {
      "cell_type": "code",
      "execution_count": null,
      "metadata": {},
      "outputs": [],
      "source": [
        "!pip install modelzoo-client"
      ]
    },
    {
      "cell_type": "markdown",
      "metadata": {
        "cell_marker": "##############################################################################"
      },
      "source": [
        "\n",
        "To deploy and use your own models, you'll need to create an account and\n",
        "configure an API key. You can do so from the command line:"
      ]
    },
    {
      "cell_type": "code",
      "execution_count": null,
      "metadata": {},
      "outputs": [],
      "source": [
        "!modelzoo auth"
      ]
    },
    {
      "cell_type": "markdown",
      "metadata": {
        "cell_marker": "##############################################################################"
      },
      "source": [
        "\n",
        "Train\n",
        "-----\n",
        "\n",
        "First, we'll need a TensorFlow model to deploy. Model Zoo is solely focused on\n",
        "deployment and monitoring of models, so you can feel free to train or load a\n",
        "Tensorflow model using any method, tool, or infrastructure. For the purposes of\n",
        "this demo, we'll use the TensorFlow official example to [classify images of\n",
        "clothing](https://www.tensorflow.org/tutorials/keras/classification)."
      ]
    },
    {
      "cell_type": "code",
      "execution_count": null,
      "metadata": {},
      "outputs": [],
      "source": [
        "import numpy as np\n",
        "import tensorflow as tf\n",
        "\n",
        "model = tf.keras.Sequential(\n",
        "    [\n",
        "        tf.keras.layers.Flatten(input_shape=(28, 28)),\n",
        "        tf.keras.layers.Dense(128, activation=\"relu\"),\n",
        "        tf.keras.layers.Dense(10),\n",
        "    ]\n",
        ")\n",
        "\n",
        "model.compile(\n",
        "    optimizer=\"adam\",\n",
        "    loss=tf.keras.losses.SparseCategoricalCrossentropy(from_logits=True),\n",
        "    metrics=[\"accuracy\"],\n",
        ")\n",
        "\n",
        "(\n",
        "    (train_images, train_labels),\n",
        "    (test_images, test_labels),\n",
        ") = tf.keras.datasets.fashion_mnist.load_data()\n",
        "\n",
        "train_images = train_images / 255.0\n",
        "test_images = test_images / 255.0\n",
        "\n",
        "model.fit(train_images, train_labels, epochs=5)\n",
        "test_loss, test_acc = model.evaluate(test_images, test_labels, verbose=2)\n",
        "print(\"\\nTest accuracy:\", test_acc)"
      ]
    },
    {
      "cell_type": "markdown",
      "metadata": {
        "cell_marker": "##############################################################################"
      },
      "source": [
        "\n",
        "Deploy\n",
        "------\n",
        "\n",
        "To deploy this TensorFlow model to a production-ready HTTP endpoint, use the\n",
        "[`modelzoo.tensorflow.deploy()`](https://docs.modelzoo.dev/reference/modelzoo.tensorflow.html#modelzoo.tensorflow.deploy)\n",
        "function:"
      ]
    },
    {
      "cell_type": "code",
      "execution_count": null,
      "metadata": {},
      "outputs": [],
      "source": [
        "import modelzoo.tensorflow\n",
        "\n",
        "model_name = modelzoo.tensorflow.deploy(model)"
      ]
    },
    {
      "cell_type": "markdown",
      "metadata": {
        "cell_marker": "##############################################################################"
      },
      "source": [
        "\n",
        "That's all there is to it! Behind the scenes, Model Zoo serialized your model\n",
        "to the TensorFlow SavedModel format, uploaded it to object storage, deployed\n",
        "a container to serve any HTTP requests made to the model, and set up a load\n",
        "balancer to route requests to multiple model shards. If you'd like, take some\n",
        "time to explore the model via the Web UI link. There you'll be able to modify\n",
        "documentation, test the model with raw or visual inputs, monitor metrics\n",
        "and/or logs.\n",
        "\n",
        "You can specify the name of the model you'd like to deploy via a ``model_name``\n",
        "argument. If a name is omitted, Model Zoo will choose a unique one for you.\n",
        "Model names must be unique to your account.\n",
        "\n",
        "Predict\n",
        "-------\n",
        "\n",
        "Now that the model is deployed, you can use our Python client API to query\n",
        "the model for a prediction. The\n",
        "[`modelzoo.tensorflow.predict()`](https://docs.modelzoo.dev/reference/modelzoo.tensorflow.html#modelzoo.tensorflow.predict)\n",
        "function requires the `model_name` and a payload for prediction -- in this\n",
        "case a numpy array representing a test image."
      ]
    },
    {
      "cell_type": "code",
      "execution_count": null,
      "metadata": {},
      "outputs": [],
      "source": [
        "print(\"\\nTest label ground truth:\", test_labels[0])\n",
        "\n",
        "scores = modelzoo.tensorflow.predict(model_name, test_images[0])\n",
        "scores_by_class = list(zip(range(10), scores[0]))\n",
        "model_prediction = np.argmax(scores)\n",
        "\n",
        "print(\"\\nModel scores by class:\", scores_by_class)\n",
        "print(\"\\nModel prediction:\", np.argmax(scores))"
      ]
    },
    {
      "cell_type": "markdown",
      "metadata": {
        "cell_marker": "##############################################################################"
      },
      "source": [
        "\n",
        "Great! At this point, we've successfully queried our deployed model for a\n",
        "prediction on an image it hasn't seen during training.\n",
        "\n",
        "Manage\n",
        "------\n",
        "\n",
        "By default, Model Zoo will deploy your model and wait for it to get into a\n",
        "`HEALTHY` state, meaning that it's ready for predictions. You can always\n",
        "check on the state of a model by using the\n",
        "[`modelzoo.info()`](https://docs.modelzoo.dev/reference/modelzoo.html#modelzoo.info)\n",
        "function:"
      ]
    },
    {
      "cell_type": "code",
      "execution_count": null,
      "metadata": {},
      "outputs": [],
      "source": [
        "modelzoo.info(model_name)"
      ]
    },
    {
      "cell_type": "markdown",
      "metadata": {
        "cell_marker": "##############################################################################"
      },
      "source": [
        "\n",
        "To save resources and shut down any model if you aren't using it, you can use\n",
        "[`modelzoo.stop()`](https://docs.modelzoo.dev/reference/modelzoo.html#modelzoo.stop):"
      ]
    },
    {
      "cell_type": "code",
      "execution_count": null,
      "metadata": {},
      "outputs": [],
      "source": [
        "modelzoo.stop(model_name)"
      ]
    },
    {
      "cell_type": "markdown",
      "metadata": {
        "cell_marker": "##############################################################################"
      },
      "source": [
        "\n",
        "With Model Zoo you can manage model state manually, or automatically. By\n",
        "default, our free trial will stop any model where there has been no request\n",
        "activity for 15 minutes, saving you resources if you forget to stop manually.\n",
        "Our unlimited version has more options for controlling autoscaling behavior.\n",
        "\n",
        "Interested in what you've seen and want to test drive an unlimited version of\n",
        "Model Zoo? Apply to our [private\n",
        "beta](https://modelzoo.typeform.com/to/Y8U9Lw) and reach out at\n",
        "[contact@modelzoo.dev](mailto:contact@modelzoo.dev) to learn more."
      ]
    }
  ],
  "metadata": {
    "jupytext": {
      "cell_metadata_filter": "-all",
      "main_language": "python",
      "notebook_metadata_filter": "-all"
    }
  },
  "nbformat": 4,
  "nbformat_minor": 4
}
