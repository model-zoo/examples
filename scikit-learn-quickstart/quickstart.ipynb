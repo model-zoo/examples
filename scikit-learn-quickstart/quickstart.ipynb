{
  "cells": [
    {
      "cell_type": "markdown",
      "metadata": {
        "cell_marker": "\"\"\""
      },
      "source": [
        "Scikit Learn: Quick Start\n",
        "=========================\n",
        "\n",
        "In this tutorial, we are going to train and deploy a small scikit-learn\n",
        "classifier on the [iris\n",
        "dataset](https://scikit-learn.org/stable/auto_examples/datasets/plot_iris_dataset.html),\n",
        "and deploy it to Model Zoo to make predictions via HTTP.\n",
        "\n",
        "You can follow along this tutorial in any Python environment you're comfortable\n",
        "with, such as a Python IDE, Jupyter notebook, or a Python terminal. The easiest\n",
        "option is to open this tutorial directly in colab:\n",
        "\n",
        "[![Open In Colab](https://colab.research.google.com/assets/colab-badge.svg)](https://colab.research.google.com/github/model-zoo/examples/blob/master/scikit-learn-quickstart/quickstart.ipynb)\n",
        "\n",
        "Installation\n",
        "------------\n",
        "\n",
        "Install the Model Zoo client library via pip:"
      ]
    },
    {
      "cell_type": "code",
      "execution_count": null,
      "metadata": {},
      "outputs": [],
      "source": [
        "!pip install modelzoo-client[sklearn]"
      ]
    },
    {
      "cell_type": "markdown",
      "metadata": {
        "cell_marker": "##############################################################################"
      },
      "source": [
        "\n",
        "To deploy and use your own models, you'll need to create an account and\n",
        "configure an API key. You can do so from the command line:"
      ]
    },
    {
      "cell_type": "code",
      "execution_count": null,
      "metadata": {},
      "outputs": [],
      "source": [
        "!modelzoo auth"
      ]
    },
    {
      "cell_type": "markdown",
      "metadata": {
        "cell_marker": "##############################################################################"
      },
      "source": [
        "\n",
        "Train\n",
        "----\n",
        "\n",
        "First, we need to train a model. For the sake of this quickstart, we'll train\n",
        "a simple logistic regression model on the [iris\n",
        "dataset](https://scikit-learn.org/stable/auto_examples/datasets/plot_iris_dataset.html)."
      ]
    },
    {
      "cell_type": "code",
      "execution_count": null,
      "metadata": {},
      "outputs": [],
      "source": [
        "import sklearn.datasets\n",
        "import sklearn.linear_model\n",
        "import sklearn.model_selection\n",
        "\n",
        "# Load and split data into train and test sets.\n",
        "iris = sklearn.datasets.load_iris()\n",
        "X_train, X_test, y_train, y_test = sklearn.model_selection.train_test_split(\n",
        "    iris.data, iris.target, test_size=0.1\n",
        ")\n",
        "\n",
        "# Train the logistic regression model.\n",
        "estimator = sklearn.linear_model.LogisticRegression()\n",
        "estimator.fit(X_train, y_train)"
      ]
    },
    {
      "cell_type": "markdown",
      "metadata": {
        "cell_marker": "##############################################################################"
      },
      "source": [
        "\n",
        "Deploy\n",
        "------\n",
        "\n",
        "To deploy this pipeline to a production-ready HTTP endpoint, use the\n",
        "[`modelzoo.sklearn.deploy()`](https://docs.modelzoo.dev/reference/modelzoo.sklearn.html#modelzoo.sklearn.deploy)\n",
        "function. This function will directly take any scikit learn estimator object."
      ]
    },
    {
      "cell_type": "code",
      "execution_count": null,
      "metadata": {},
      "outputs": [],
      "source": [
        "import modelzoo.sklearn\n",
        "\n",
        "model_name = modelzoo.sklearn.deploy(estimator)"
      ]
    },
    {
      "cell_type": "markdown",
      "metadata": {
        "cell_marker": "##############################################################################"
      },
      "source": [
        "\n",
        "That's all there is to it! Behind the scenes, Model Zoo serialized your model\n",
        "via\n",
        "[`joblib`](https://scikit-learn.org/stable/modules/model_persistence.html),\n",
        "uploaded it to object storage, and deployed a serverless lambda function to\n",
        "serve requests to this model. If you'd like, take some time to explore the\n",
        "model via the Web UI link. There you'll be able to modify documentation, test\n",
        "the model with raw or visual inputs, monitor metrics and/or logs. By default,\n",
        "only your account (or anybody you share your API key with) will be able to\n",
        "access this model.\n",
        "\n",
        "You can specify the name of the model you'd like to deploy via a ``model_name``\n",
        "argument. If a name is omitted, Model Zoo will choose a unique one for you.\n",
        "Model names must be unique to your account.\n",
        "\n",
        "Predict\n",
        "-------\n",
        "\n",
        "Next, we'll use our Python client library to query the model for a\n",
        "prediction.\n",
        "[`modelzoo.sklearn.predict()`](https://docs.modelzoo.dev/reference/modelzoo.sklearn.html#modelzoo.sklearn.predict)\n",
        "requires the `model_name` and an input numpy array for prediction. Under the\n",
        "hood, the client library will query the model endpoint for a result. Let's\n",
        "use the test set we loaded earlier, and compare the predictions to the ground\n",
        "truth labels."
      ]
    },
    {
      "cell_type": "code",
      "execution_count": null,
      "metadata": {},
      "outputs": [],
      "source": [
        "import sklearn.metrics\n",
        "\n",
        "prediction = modelzoo.sklearn.predict(model_name, X_test)\n",
        "\n",
        "print(\"Test label ground truth: \", y_test)\n",
        "print(\"Model prediction: \", prediction)\n",
        "print(\"Test accuracy: \", sklearn.metrics.accuracy_score(y_test, prediction))"
      ]
    },
    {
      "cell_type": "markdown",
      "metadata": {
        "cell_marker": "##############################################################################"
      },
      "source": [
        "\n",
        "Great! At this point, we've successfully used our scikit learn classifier to\n",
        "make predictions on test data.\n",
        "\n",
        "Interested in what you've seen and want to test drive an unlimited version of\n",
        "Model Zoo? Apply to our [private\n",
        "beta](https://modelzoo.typeform.com/to/Y8U9Lw) and reach out at\n",
        "[contact@modelzoo.dev](mailto:contact@modelzoo.dev) to learn more."
      ]
    }
  ],
  "metadata": {
    "jupytext": {
      "cell_metadata_filter": "-all",
      "main_language": "python",
      "notebook_metadata_filter": "-all"
    }
  },
  "nbformat": 4,
  "nbformat_minor": 4
}
