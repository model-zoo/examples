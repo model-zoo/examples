{
  "cells": [
    {
      "cell_type": "markdown",
      "metadata": {
        "cell_marker": "\"\"\""
      },
      "source": [
        "Transformers: Quick Start\n",
        "=========================\n",
        "\n",
        "In this tutorial, we are going to deploy a language model to Model Zoo with\n",
        "[HuggingFace Transformers](https://huggingface.co/transformers/) and use it to\n",
        "generate an original passage of text.\n",
        "\n",
        "You can follow along this tutorial in any Python environment you're comfortable\n",
        "with, such as a Python IDE, Jupyter notebook, or a Python terminal. The easiest\n",
        "option is to open this tutorial directly in colab:\n",
        "\n",
        "[![Open In Colab](https://colab.research.google.com/assets/colab-badge.svg)](https://colab.research.google.com/github/model-zoo/examples/blob/master/transformers-quickstart/quickstart.ipynb)\n",
        "\n",
        "Installation\n",
        "------------\n",
        "\n",
        "Install the Model Zoo client library via pip:"
      ]
    },
    {
      "cell_type": "code",
      "execution_count": null,
      "metadata": {},
      "outputs": [],
      "source": [
        "!pip install modelzoo-client"
      ]
    },
    {
      "cell_type": "markdown",
      "metadata": {
        "cell_marker": "##############################################################################"
      },
      "source": [
        "\n",
        "To deploy and use your own models, you'll need to create an account and\n",
        "configure an API key. You can do so from the command line:"
      ]
    },
    {
      "cell_type": "code",
      "execution_count": null,
      "metadata": {},
      "outputs": [],
      "source": [
        "!modelzoo auth"
      ]
    },
    {
      "cell_type": "markdown",
      "metadata": {
        "cell_marker": "##############################################################################"
      },
      "source": [
        "\n",
        "Load\n",
        "----\n",
        "\n",
        "First, we'll need to train or load a model and tokenizer in the form of a\n",
        "[transformers.Pipeline](https://huggingface.co/transformers/main_classes/pipelines.html)\n",
        "object. Pipeline offers a simple API dedicated to several tasks, including\n",
        "Named Entity Recognition, Masked Language Modeling, Sentiment Analysis,\n",
        "Feature Extraction and Question Answering. Model Zoo relies on this API to\n",
        "figure out how to package and serve your model behind an HTTP endpoint.\n",
        "\n",
        "For the sake of this quickstart, we'll use the default \"text-generation\"\n",
        "pipeline which loads the [OpenAI\n",
        "GPT-2](https://openai.com/blog/better-language-models/) model and tokenizer."
      ]
    },
    {
      "cell_type": "code",
      "execution_count": null,
      "metadata": {},
      "outputs": [],
      "source": [
        "import transformers\n",
        "\n",
        "pipeline = transformers.pipeline(\"text-generation\")"
      ]
    },
    {
      "cell_type": "markdown",
      "metadata": {
        "cell_marker": "##############################################################################"
      },
      "source": [
        "\n",
        "The Model Zoo free tier currently supports\n",
        "[`transformers.TextGenerationPipeline`](https://huggingface.co/transformers/main_classes/pipelines.html?highlight=transformers.TextGenerationPipeline#transformers.TextGenerationPipeline).\n",
        "If you're interested in deploying other types of pipelines, please reach out\n",
        "to [contact@modelzoo.dev](mailto:contact@modelzoo.dev).\n",
        "\n",
        "Deploy\n",
        "------\n",
        "\n",
        "To deploy this pipeline to a production-ready HTTP endpoint, use the\n",
        "[`modelzoo.transformers.deploy()`](https://docs.modelzoo.dev/reference/modelzoo.transformers.html#modelzoo.transformers.deploy)\n",
        "function. Since GPT2 is a large model with high memory requirements, we\n",
        "override defaults to configure our containers to use 2 GB memory and 1024 CPU\n",
        "units (1 vCPU) with\n",
        "[`modelzoo.ResourcesConfig`](https://docs.modelzoo.dev/reference/modelzoo.html#modelzoo.ResourcesConfig)."
      ]
    },
    {
      "cell_type": "code",
      "execution_count": null,
      "metadata": {},
      "outputs": [],
      "source": [
        "import modelzoo.transformers\n",
        "\n",
        "model_name = modelzoo.transformers.deploy(\n",
        "    pipeline=pipeline,\n",
        "    resources_config=modelzoo.ResourcesConfig(memory_mb=2048, cpu_units=1024),\n",
        ")"
      ]
    },
    {
      "cell_type": "markdown",
      "metadata": {
        "cell_marker": "##############################################################################"
      },
      "source": [
        "\n",
        "That's all there is to it! Behind the scenes, Model Zoo serialized your\n",
        "pipeline, deployed it to a container to serve HTTP requests, and set up a\n",
        "load balancer to route requests to multiple model shards.  If you'd like,\n",
        "take some time to explore the model via the Web UI link. There you'll be able\n",
        "to modify documentation, test the model with raw or visual inputs, monitor\n",
        "metrics and/or logs.\n",
        "\n",
        "You can specify the name of the model you'd like to deploy via a ``model_name``\n",
        "argument. If a name is omitted, Model Zoo will choose a unique one for you.\n",
        "Model names must be unique to your account.\n",
        "\n",
        "Predict\n",
        "-------\n",
        "\n",
        "Now that the model is deployed, you can use our Python client API to query\n",
        "the language model to generate some text.\n",
        "[`modelzoo.transformers.generate()`](https://docs.modelzoo.dev/reference/modelzoo.transformers.html#modelzoo.transformers.generate)\n",
        "function requires the `model_name` and an optional input string to prime the\n",
        "text generation pipeline."
      ]
    },
    {
      "cell_type": "code",
      "execution_count": null,
      "metadata": {},
      "outputs": [],
      "source": [
        "print(\n",
        "    modelzoo.transformers.generate(\n",
        "        model_name, input_str=\"These violent delights have violent ends\"\n",
        "    )\n",
        ")"
      ]
    },
    {
      "cell_type": "markdown",
      "metadata": {
        "cell_marker": "##############################################################################"
      },
      "source": [
        "\n",
        "Great! At this point, we've used our language model to generate an original\n",
        "passage of text.\n",
        "\n",
        "Manage\n",
        "------\n",
        "\n",
        "By default, Model Zoo will deploy your model and wait for it to get into a\n",
        "`HEALTHY` state, meaning that it's ready for predictions. You can always\n",
        "check on the state of a model by using the\n",
        "[`modelzoo.info()`](https://docs.modelzoo.dev/reference/modelzoo.html#modelzoo.info)\n",
        "function:"
      ]
    },
    {
      "cell_type": "code",
      "execution_count": null,
      "metadata": {},
      "outputs": [],
      "source": [
        "modelzoo.info(model_name)"
      ]
    },
    {
      "cell_type": "markdown",
      "metadata": {
        "cell_marker": "##############################################################################"
      },
      "source": [
        "\n",
        "To save resources and shut down any model if you aren't using it, you can use\n",
        "[`modelzoo.stop()`](https://docs.modelzoo.dev/reference/modelzoo.html#modelzoo.stop):"
      ]
    },
    {
      "cell_type": "code",
      "execution_count": null,
      "metadata": {},
      "outputs": [],
      "source": [
        "modelzoo.stop(model_name)"
      ]
    },
    {
      "cell_type": "markdown",
      "metadata": {
        "cell_marker": "##############################################################################"
      },
      "source": [
        "\n",
        "With Model Zoo you can manage model state manually, or automatically. By\n",
        "default, our free trial will stop any model where there has been no request\n",
        "activity for 15 minutes, saving you resources if you forget to stop manually.\n",
        "Our unlimited version has more options for controlling autoscaling behavior.\n",
        "\n",
        "Interested in what you've seen and want to test drive an unlimited version of\n",
        "Model Zoo? Apply to our [private\n",
        "beta](https://modelzoo.typeform.com/to/Y8U9Lw) and reach out at\n",
        "[contact@modelzoo.dev](mailto:contact@modelzoo.dev) to learn more."
      ]
    }
  ],
  "metadata": {
    "jupytext": {
      "cell_metadata_filter": "-all",
      "main_language": "python",
      "notebook_metadata_filter": "-all"
    }
  },
  "nbformat": 4,
  "nbformat_minor": 4
}
